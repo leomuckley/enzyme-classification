{
 "cells": [
  {
   "cell_type": "code",
   "execution_count": 2,
   "metadata": {},
   "outputs": [],
   "source": [
    "import pandas as pd\n",
    "import numpy as np\n",
    "import seaborn as sns\n",
    "import matplotlib.pyplot as plt\n",
    "from collections import Counter"
   ]
  },
  {
   "cell_type": "markdown",
   "metadata": {},
   "source": [
    "## Training Set Analysis"
   ]
  },
  {
   "cell_type": "code",
   "execution_count": 3,
   "metadata": {},
   "outputs": [
    {
     "data": {
      "text/html": [
       "<div>\n",
       "<style scoped>\n",
       "    .dataframe tbody tr th:only-of-type {\n",
       "        vertical-align: middle;\n",
       "    }\n",
       "\n",
       "    .dataframe tbody tr th {\n",
       "        vertical-align: top;\n",
       "    }\n",
       "\n",
       "    .dataframe thead th {\n",
       "        text-align: right;\n",
       "    }\n",
       "</style>\n",
       "<table border=\"1\" class=\"dataframe\">\n",
       "  <thead>\n",
       "    <tr style=\"text-align: right;\">\n",
       "      <th></th>\n",
       "      <th>SEQUENCE_ID</th>\n",
       "      <th>SEQUENCE</th>\n",
       "      <th>CREATURE</th>\n",
       "      <th>LABEL</th>\n",
       "    </tr>\n",
       "  </thead>\n",
       "  <tbody>\n",
       "    <tr>\n",
       "      <th>0</th>\n",
       "      <td>00011UBJ</td>\n",
       "      <td>MPWQELSITVPHEYVEPISYLFGRYGKGVSTELAGNGQVLLRTYLT...</td>\n",
       "      <td>creature9</td>\n",
       "      <td>class11</td>\n",
       "    </tr>\n",
       "    <tr>\n",
       "      <th>1</th>\n",
       "      <td>0001HZ3P</td>\n",
       "      <td>MGKLVIGSRGSELALWQANHIKERLKKECLIESEIQIVKTKGDKIL...</td>\n",
       "      <td>creature3</td>\n",
       "      <td>class13</td>\n",
       "    </tr>\n",
       "    <tr>\n",
       "      <th>2</th>\n",
       "      <td>0003NJDO</td>\n",
       "      <td>MFIVAVLMLAFLIFVHELGHFTIARICGVKVEVFSIGFGKKLCFFK...</td>\n",
       "      <td>creature3</td>\n",
       "      <td>class16</td>\n",
       "    </tr>\n",
       "    <tr>\n",
       "      <th>3</th>\n",
       "      <td>0003XVE3</td>\n",
       "      <td>MKNTSLSTTLTMNDTIAAIATPLGKGAISIIKISGHNALNILKQLT...</td>\n",
       "      <td>creature3</td>\n",
       "      <td>class12</td>\n",
       "    </tr>\n",
       "    <tr>\n",
       "      <th>4</th>\n",
       "      <td>00049BS0</td>\n",
       "      <td>MGNRLTKIYTKTGDSGLTGLADGSRTEKDSLRIFVIGDVDELNSLL...</td>\n",
       "      <td>creature8</td>\n",
       "      <td>class13</td>\n",
       "    </tr>\n",
       "  </tbody>\n",
       "</table>\n",
       "</div>"
      ],
      "text/plain": [
       "  SEQUENCE_ID                                           SEQUENCE   CREATURE  \\\n",
       "0    00011UBJ  MPWQELSITVPHEYVEPISYLFGRYGKGVSTELAGNGQVLLRTYLT...  creature9   \n",
       "1    0001HZ3P  MGKLVIGSRGSELALWQANHIKERLKKECLIESEIQIVKTKGDKIL...  creature3   \n",
       "2    0003NJDO  MFIVAVLMLAFLIFVHELGHFTIARICGVKVEVFSIGFGKKLCFFK...  creature3   \n",
       "3    0003XVE3  MKNTSLSTTLTMNDTIAAIATPLGKGAISIIKISGHNALNILKQLT...  creature3   \n",
       "4    00049BS0  MGNRLTKIYTKTGDSGLTGLADGSRTEKDSLRIFVIGDVDELNSLL...  creature8   \n",
       "\n",
       "     LABEL  \n",
       "0  class11  \n",
       "1  class13  \n",
       "2  class16  \n",
       "3  class12  \n",
       "4  class13  "
      ]
     },
     "execution_count": 3,
     "metadata": {},
     "output_type": "execute_result"
    }
   ],
   "source": [
    "train = pd.read_csv('Train.csv')\n",
    "\n",
    "train.head()"
   ]
  },
  {
   "cell_type": "code",
   "execution_count": 4,
   "metadata": {},
   "outputs": [
    {
     "name": "stdout",
     "output_type": "stream",
     "text": [
      "<class 'pandas.core.frame.DataFrame'>\n",
      "RangeIndex: 858777 entries, 0 to 858776\n",
      "Data columns (total 4 columns):\n",
      " #   Column       Non-Null Count   Dtype \n",
      "---  ------       --------------   ----- \n",
      " 0   SEQUENCE_ID  858777 non-null  object\n",
      " 1   SEQUENCE     858777 non-null  object\n",
      " 2   CREATURE     858777 non-null  object\n",
      " 3   LABEL        858777 non-null  object\n",
      "dtypes: object(4)\n",
      "memory usage: 26.2+ MB\n"
     ]
    }
   ],
   "source": [
    "train.info()"
   ]
  },
  {
   "cell_type": "code",
   "execution_count": 5,
   "metadata": {},
   "outputs": [
    {
     "data": {
      "text/plain": [
       "creature8    140738\n",
       "creature3    138450\n",
       "creature4    133900\n",
       "creature9    111984\n",
       "creature0     90240\n",
       "creature1     84968\n",
       "creature2     80405\n",
       "creature5     78092\n",
       "Name: CREATURE, dtype: int64"
      ]
     },
     "execution_count": 5,
     "metadata": {},
     "output_type": "execute_result"
    }
   ],
   "source": [
    "train['CREATURE'].value_counts()"
   ]
  },
  {
   "cell_type": "code",
   "execution_count": 6,
   "metadata": {},
   "outputs": [
    {
     "data": {
      "text/plain": [
       "class19    256273\n",
       "class11     62087\n",
       "class2      52784\n",
       "class6      46636\n",
       "class8      45052\n",
       "class12     37866\n",
       "class5      36916\n",
       "class9      36666\n",
       "class1      35987\n",
       "class10     35438\n",
       "class3      32719\n",
       "class4      32301\n",
       "class13     29631\n",
       "class16     28414\n",
       "class7      19286\n",
       "class14     17792\n",
       "class17     14923\n",
       "class15     13967\n",
       "class18     12930\n",
       "class0      11109\n",
       "Name: LABEL, dtype: int64"
      ]
     },
     "execution_count": 6,
     "metadata": {},
     "output_type": "execute_result"
    }
   ],
   "source": [
    "train['LABEL'].value_counts()"
   ]
  },
  {
   "cell_type": "code",
   "execution_count": 7,
   "metadata": {},
   "outputs": [],
   "source": [
    "train['target'] = train['LABEL'].str.replace('[A-Za-z]', '').astype(int)\n",
    "\n",
    "train['creature'] = train['CREATURE'].str.replace('[A-Za-z]', '').astype(int)"
   ]
  },
  {
   "cell_type": "code",
   "execution_count": 13,
   "metadata": {},
   "outputs": [
    {
     "data": {
      "text/plain": [
       "<AxesSubplot:xlabel='creature', ylabel='Count'>"
      ]
     },
     "execution_count": 13,
     "metadata": {},
     "output_type": "execute_result"
    },
    {
     "data": {
      "image/png": "[encoded data removed]",
      "text/plain": [
       "<Figure size 432x288 with 1 Axes>"
      ]
     },
     "metadata": {
      "needs_background": "light"
     },
     "output_type": "display_data"
    }
   ],
   "source": [
    "sns.histplot(train['creature'])"
   ]
  },
  {
   "cell_type": "code",
   "execution_count": 12,
   "metadata": {},
   "outputs": [
    {
     "data": {
      "text/plain": [
       "<AxesSubplot:xlabel='target', ylabel='Count'>"
      ]
     },
     "execution_count": 12,
     "metadata": {},
     "output_type": "execute_result"
    },
    {
     "data": {
      "image/png": "[encoded data removed]",
      "text/plain": [
       "<Figure size 432x288 with 1 Axes>"
      ]
     },
     "metadata": {
      "needs_background": "light"
     },
     "output_type": "display_data"
    }
   ],
   "source": [
    "sns.histplot(train['target'])"
   ]
  },
  {
   "cell_type": "code",
   "execution_count": 8,
   "metadata": {},
   "outputs": [
    {
     "data": {
      "text/plain": [
       "<seaborn.axisgrid.FacetGrid at 0x7f770d664b10>"
      ]
     },
     "execution_count": 8,
     "metadata": {},
     "output_type": "execute_result"
    },
    {
     "data": {
      "image/png": "[encoded data removed]",
      "text/plain": [
       "<Figure size 1080x1080 with 8 Axes>"
      ]
     },
     "metadata": {
      "needs_background": "light"
     },
     "output_type": "display_data"
    }
   ],
   "source": [
    "\n",
    "data = train[['CREATURE', 'LABEL', 'target', 'creature']]\n",
    "\n",
    "g = sns.FacetGrid(data, col=\"creature\", height=5, col_wrap=3)\n",
    "g.map(sns.histplot, \"target\")\n"
   ]
  },
  {
   "cell_type": "code",
   "execution_count": 9,
   "metadata": {},
   "outputs": [
    {
     "data": {
      "text/plain": [
       "class19    201\n",
       "Name: LABEL, dtype: int64"
      ]
     },
     "execution_count": 9,
     "metadata": {},
     "output_type": "execute_result"
    }
   ],
   "source": [
    "seq = train[train['SEQUENCE'] == \"FFRENLAFPEGEAREFPSEQTRAIGPTRGEPQVWGRSSNSLSEAGGDRQGHGQGTVSLSFPQITLWQRPLVTIKIGGQLKEALLDTGADDTVVEEMDLPGRWKPKMIGGIGGFIKVRQYDQILVEICGHKAIGTVLVGPTPVNIIGRNLLTQIGCTLNFPISPIETVPVKLKPGMDGPRVKQWPLTEEKIKALVEICTEMEKEGKISKIGPENPYNTPVFAIKKKDSTKWRKLVDFRELNKRTQDFWEVQLGIPHPAGLKKKKSVTVLDVGDAYFSVPLDKDFRKYTAFTIPSINNETPGIRYQYNVLPQGWKGSPAIFQSSMTKILEPFRKQNPDMVIYQYMDDLYVGSDLEIGQHRTKIEELRQHLLKWGFTTPDKKHQKEPPFLWMGYELHPDKWTVQPITLPEKDDWTVNDIQKLVGKLNWASQIYAGIKVKQLCRLLRGAKALTEVIPLTKEAELELAENREILKEPVHGVYYDPSKDLIAEIQKQGQCQWTWQIYQEPFKNLKTGKYARMRGAHTNDVKQLTEAVQKIATESIVIWGKIPKFRLPIQKETWETWWTEYWQATWIPDWEFISTPPLVKLWYQLEKEPIVGAETFYVDGAANRETKLGRAGYVTDRGKQKVVSLTDTTNQKTELQAIHLALQDSGSEVNIVTDSQYALGIIQACPDKSESELVSQIIEELIKKEKVYLAWVPAHKGIGGNEQVDKLVSAGIRKVLFLDGIDKAQEEHEKYHSNWRAMASDFNLPPIVAKEIVASCDKCQLKGEAIHGQVDCSPGIWQLDCTHLEGKIILVAVHVASGYIEAEVIPAETGQETAYFILKLAGRWPVKTIHTDNGSNFTSAAVKAACWWAGIKQEFGIPYNPQSQGVVESMNKELKKIIGQVREQAEHLKTAVQMAVFVHNFKRKGGIGGYSAGERIIDIIATDIQTKELQKQITKIQNFRVYYRDSRDPLWKGPAKLLWKGEGAVVIQDNSDIKVVPRRKAKIIRDYGKQMAGDDCVASRQDED\"]\n",
    "\n",
    "seq['LABEL'].value_counts()"
   ]
  },
  {
   "cell_type": "code",
   "execution_count": 10,
   "metadata": {},
   "outputs": [
    {
     "name": "stdout",
     "output_type": "stream",
     "text": [
      "42077\n"
     ]
    }
   ],
   "source": [
    "seq_dups = len(train['SEQUENCE']) - len(train['SEQUENCE'].unique())\n",
    "print(seq_dups)"
   ]
  },
  {
   "cell_type": "code",
   "execution_count": 11,
   "metadata": {},
   "outputs": [],
   "source": [
    "train['seq_char_count']= train['SEQUENCE'].apply(lambda x: len(x))\n",
    "\n",
    "def plot_seq_count(df, data_name):\n",
    "  sns.distplot(df['seq_char_count'].values)\n",
    "  plt.title(f'Sequence char count: {data_name}')\n",
    "  plt.grid(True)"
   ]
  },
  {
   "cell_type": "code",
   "execution_count": 15,
   "metadata": {},
   "outputs": [
    {
     "name": "stdout",
     "output_type": "stream",
     "text": [
      "Codes: Train\n",
      "Total unique codes: 24\n"
     ]
    }
   ],
   "source": [
    "def get_code_freq(df, data_name):\n",
    "  \n",
    "  df = df.apply(lambda x: \" \".join(x))\n",
    "  \n",
    "  codes = []\n",
    "  for i in df: # concatination of all codes\n",
    "    codes.extend(i)\n",
    "\n",
    "  codes_dict= Counter(codes)\n",
    "  codes_dict.pop(' ') # removing white space\n",
    "  \n",
    "  print(f'Codes: {data_name}')\n",
    "  print(f'Total unique codes: {len(codes_dict.keys())}')\n",
    "\n",
    "  df = pd.DataFrame({'Code': list(codes_dict.keys()), 'Freq': list(codes_dict.values())})\n",
    "  return df.sort_values('Freq', ascending=False).reset_index()[['Code', 'Freq']]\n",
    "  \n",
    "# train code sequence\n",
    "train_code_freq = get_code_freq(train['SEQUENCE'], 'Train')\n",
    "\n",
    "def plot_code_freq(df, data_name):\n",
    "  \n",
    "  plt.title(f'Code frequency: {data_name}')\n",
    "  sns.barplot(x='Code', y='Freq', data=df)\n"
   ]
  },
  {
   "cell_type": "code",
   "execution_count": 19,
   "metadata": {},
   "outputs": [
    {
     "data": {
      "image/png": "[encoded data removed]",
      "text/plain": [
       "<Figure size 432x288 with 1 Axes>"
      ]
     },
     "metadata": {
      "needs_background": "light"
     },
     "output_type": "display_data"
    }
   ],
   "source": [
    "plot_code_freq(train_code_freq, 'Train')"
   ]
  },
  {
   "cell_type": "markdown",
   "metadata": {},
   "source": [
    "## Test Set Analysis\n"
   ]
  },
  {
   "cell_type": "code",
   "execution_count": 15,
   "metadata": {},
   "outputs": [
    {
     "data": {
      "text/html": [
       "<div>\n",
       "<style scoped>\n",
       "    .dataframe tbody tr th:only-of-type {\n",
       "        vertical-align: middle;\n",
       "    }\n",
       "\n",
       "    .dataframe tbody tr th {\n",
       "        vertical-align: top;\n",
       "    }\n",
       "\n",
       "    .dataframe thead th {\n",
       "        text-align: right;\n",
       "    }\n",
       "</style>\n",
       "<table border=\"1\" class=\"dataframe\">\n",
       "  <thead>\n",
       "    <tr style=\"text-align: right;\">\n",
       "      <th></th>\n",
       "      <th>SEQUENCE_ID</th>\n",
       "      <th>SEQUENCE</th>\n",
       "      <th>CREATURE</th>\n",
       "    </tr>\n",
       "  </thead>\n",
       "  <tbody>\n",
       "    <tr>\n",
       "      <th>0</th>\n",
       "      <td>000LRRAI</td>\n",
       "      <td>MKLPVKRYAVAAIVALGVSMAPGELRTSPEAQIKIATREECRATPY...</td>\n",
       "      <td>creature7</td>\n",
       "    </tr>\n",
       "    <tr>\n",
       "      <th>1</th>\n",
       "      <td>000O8L4W</td>\n",
       "      <td>MKISVFGSGYVGLVQAAVLAEVGHDVVCMDIDKVKVEQLSQGQVHI...</td>\n",
       "      <td>creature6</td>\n",
       "    </tr>\n",
       "    <tr>\n",
       "      <th>2</th>\n",
       "      <td>000UKB5J</td>\n",
       "      <td>MTMKVGFIGLGIMGKPMSKNLLKAGYSLVVADRNPEAIADVIAAGA...</td>\n",
       "      <td>creature7</td>\n",
       "    </tr>\n",
       "    <tr>\n",
       "      <th>3</th>\n",
       "      <td>00111SLH</td>\n",
       "      <td>MTVSLSRLERQLGYTFKDQELMILALTHRSFAGRNNERLEFLGDAI...</td>\n",
       "      <td>creature6</td>\n",
       "    </tr>\n",
       "    <tr>\n",
       "      <th>4</th>\n",
       "      <td>001ELB0A</td>\n",
       "      <td>MSKIRVLSVDDSALMRQIMTEIINSHSDMEMVATAPDPLVARDLIK...</td>\n",
       "      <td>creature7</td>\n",
       "    </tr>\n",
       "  </tbody>\n",
       "</table>\n",
       "</div>"
      ],
      "text/plain": [
       "  SEQUENCE_ID                                           SEQUENCE   CREATURE\n",
       "0    000LRRAI  MKLPVKRYAVAAIVALGVSMAPGELRTSPEAQIKIATREECRATPY...  creature7\n",
       "1    000O8L4W  MKISVFGSGYVGLVQAAVLAEVGHDVVCMDIDKVKVEQLSQGQVHI...  creature6\n",
       "2    000UKB5J  MTMKVGFIGLGIMGKPMSKNLLKAGYSLVVADRNPEAIADVIAAGA...  creature7\n",
       "3    00111SLH  MTVSLSRLERQLGYTFKDQELMILALTHRSFAGRNNERLEFLGDAI...  creature6\n",
       "4    001ELB0A  MSKIRVLSVDDSALMRQIMTEIINSHSDMEMVATAPDPLVARDLIK...  creature7"
      ]
     },
     "execution_count": 15,
     "metadata": {},
     "output_type": "execute_result"
    }
   ],
   "source": [
    "test = pd.read_csv('Test.csv')\n",
    "test.head()"
   ]
  },
  {
   "cell_type": "code",
   "execution_count": 10,
   "metadata": {},
   "outputs": [
    {
     "name": "stdout",
     "output_type": "stream",
     "text": [
      "68\n"
     ]
    }
   ],
   "source": [
    "test_seq_dups = len(test['SEQUENCE']) - len(test['SEQUENCE'].unique())\n",
    "print(test_seq_dups)"
   ]
  },
  {
   "cell_type": "code",
   "execution_count": 17,
   "metadata": {},
   "outputs": [],
   "source": [
    "\n",
    "test['creature'] = test['CREATURE'].str.replace('[A-Za-z]', '').astype(int)"
   ]
  },
  {
   "cell_type": "code",
   "execution_count": 18,
   "metadata": {},
   "outputs": [
    {
     "data": {
      "text/plain": [
       "<AxesSubplot:xlabel='creature', ylabel='Count'>"
      ]
     },
     "execution_count": 18,
     "metadata": {},
     "output_type": "execute_result"
    },
    {
     "data": {
      "image/png": "[encoded data removed]",
      "text/plain": [
       "<Figure size 432x288 with 1 Axes>"
      ]
     },
     "metadata": {
      "needs_background": "light"
     },
     "output_type": "display_data"
    }
   ],
   "source": [
    "sns.histplot(test['creature'])"
   ]
  },
  {
   "cell_type": "code",
   "execution_count": 11,
   "metadata": {},
   "outputs": [
    {
     "data": {
      "text/html": [
       "<div>\n",
       "<style scoped>\n",
       "    .dataframe tbody tr th:only-of-type {\n",
       "        vertical-align: middle;\n",
       "    }\n",
       "\n",
       "    .dataframe tbody tr th {\n",
       "        vertical-align: top;\n",
       "    }\n",
       "\n",
       "    .dataframe thead th {\n",
       "        text-align: right;\n",
       "    }\n",
       "</style>\n",
       "<table border=\"1\" class=\"dataframe\">\n",
       "  <thead>\n",
       "    <tr style=\"text-align: right;\">\n",
       "      <th></th>\n",
       "      <th>SEQUENCE_ID</th>\n",
       "      <th>SEQUENCE</th>\n",
       "      <th>CREATURE</th>\n",
       "      <th>LABEL</th>\n",
       "      <th>target</th>\n",
       "      <th>creature</th>\n",
       "    </tr>\n",
       "  </thead>\n",
       "  <tbody>\n",
       "    <tr>\n",
       "      <th>653</th>\n",
       "      <td>00XNKCB7</td>\n",
       "      <td>MHSKPSRRPFSLALRLTFFISLSTILAFIAFTWFMLHSVEKHFAEQ...</td>\n",
       "      <td>creature2</td>\n",
       "      <td>class19</td>\n",
       "      <td>19</td>\n",
       "      <td>2</td>\n",
       "    </tr>\n",
       "    <tr>\n",
       "      <th>1015</th>\n",
       "      <td>01JL31UA</td>\n",
       "      <td>MNEYQFVLPYPPSVNTYWRRRGSQYYISDKGQKYRKDVQKIIRQLK...</td>\n",
       "      <td>creature0</td>\n",
       "      <td>class2</td>\n",
       "      <td>2</td>\n",
       "      <td>0</td>\n",
       "    </tr>\n",
       "    <tr>\n",
       "      <th>1507</th>\n",
       "      <td>029PSSF6</td>\n",
       "      <td>MYRIYTRTGDKGTTALYGGSRIEKDHIRVEAYGTVDELISQLGVCY...</td>\n",
       "      <td>creature2</td>\n",
       "      <td>class13</td>\n",
       "      <td>13</td>\n",
       "      <td>2</td>\n",
       "    </tr>\n",
       "    <tr>\n",
       "      <th>4223</th>\n",
       "      <td>06FUP8DM</td>\n",
       "      <td>MRKHTPIIKWAGGKTKLMPFLSKHFPHDKSRRWVEPFIGGGAVFLN...</td>\n",
       "      <td>creature0</td>\n",
       "      <td>class11</td>\n",
       "      <td>11</td>\n",
       "      <td>0</td>\n",
       "    </tr>\n",
       "    <tr>\n",
       "      <th>4274</th>\n",
       "      <td>06IK4J1I</td>\n",
       "      <td>MREAVIAEVSTQLSEVVGVIERHLEPTLLAVHLYGSAVDGGLKPHS...</td>\n",
       "      <td>creature2</td>\n",
       "      <td>class19</td>\n",
       "      <td>19</td>\n",
       "      <td>2</td>\n",
       "    </tr>\n",
       "    <tr>\n",
       "      <th>...</th>\n",
       "      <td>...</td>\n",
       "      <td>...</td>\n",
       "      <td>...</td>\n",
       "      <td>...</td>\n",
       "      <td>...</td>\n",
       "      <td>...</td>\n",
       "    </tr>\n",
       "    <tr>\n",
       "      <th>852661</th>\n",
       "      <td>ZQSDFJ0J</td>\n",
       "      <td>MAEKRNIFLVGPMGAGKSTIGRQLAQQLNMEFYDSDQEIEKRTGAD...</td>\n",
       "      <td>creature0</td>\n",
       "      <td>class19</td>\n",
       "      <td>19</td>\n",
       "      <td>0</td>\n",
       "    </tr>\n",
       "    <tr>\n",
       "      <th>852677</th>\n",
       "      <td>ZQSYZ74P</td>\n",
       "      <td>MREAVIAEVSTQLSEVVGVIERHLEPTLLAVHLYGSAVDGGLKPHS...</td>\n",
       "      <td>creature2</td>\n",
       "      <td>class19</td>\n",
       "      <td>19</td>\n",
       "      <td>2</td>\n",
       "    </tr>\n",
       "    <tr>\n",
       "      <th>855214</th>\n",
       "      <td>ZUNKA0OP</td>\n",
       "      <td>MVSKSAELLFQNHIIEQLSSSGWLFGSSSGYDRERAIYPEDALAYV...</td>\n",
       "      <td>creature2</td>\n",
       "      <td>class2</td>\n",
       "      <td>2</td>\n",
       "      <td>2</td>\n",
       "    </tr>\n",
       "    <tr>\n",
       "      <th>857745</th>\n",
       "      <td>ZYGO4QFK</td>\n",
       "      <td>MKLILPFPPSVNTYWRHPNKGAFAGKSLISTAGRKFQSAACAAIVE...</td>\n",
       "      <td>creature2</td>\n",
       "      <td>class2</td>\n",
       "      <td>2</td>\n",
       "      <td>2</td>\n",
       "    </tr>\n",
       "    <tr>\n",
       "      <th>858111</th>\n",
       "      <td>ZZ126L7I</td>\n",
       "      <td>MRVAVTIEISNQLSEVLSVIERHLESTLLAVHLYGSAVDGGLKPYS...</td>\n",
       "      <td>creature2</td>\n",
       "      <td>class19</td>\n",
       "      <td>19</td>\n",
       "      <td>2</td>\n",
       "    </tr>\n",
       "  </tbody>\n",
       "</table>\n",
       "<p>816 rows × 6 columns</p>\n",
       "</div>"
      ],
      "text/plain": [
       "       SEQUENCE_ID                                           SEQUENCE  \\\n",
       "653       00XNKCB7  MHSKPSRRPFSLALRLTFFISLSTILAFIAFTWFMLHSVEKHFAEQ...   \n",
       "1015      01JL31UA  MNEYQFVLPYPPSVNTYWRRRGSQYYISDKGQKYRKDVQKIIRQLK...   \n",
       "1507      029PSSF6  MYRIYTRTGDKGTTALYGGSRIEKDHIRVEAYGTVDELISQLGVCY...   \n",
       "4223      06FUP8DM  MRKHTPIIKWAGGKTKLMPFLSKHFPHDKSRRWVEPFIGGGAVFLN...   \n",
       "4274      06IK4J1I  MREAVIAEVSTQLSEVVGVIERHLEPTLLAVHLYGSAVDGGLKPHS...   \n",
       "...            ...                                                ...   \n",
       "852661    ZQSDFJ0J  MAEKRNIFLVGPMGAGKSTIGRQLAQQLNMEFYDSDQEIEKRTGAD...   \n",
       "852677    ZQSYZ74P  MREAVIAEVSTQLSEVVGVIERHLEPTLLAVHLYGSAVDGGLKPHS...   \n",
       "855214    ZUNKA0OP  MVSKSAELLFQNHIIEQLSSSGWLFGSSSGYDRERAIYPEDALAYV...   \n",
       "857745    ZYGO4QFK  MKLILPFPPSVNTYWRHPNKGAFAGKSLISTAGRKFQSAACAAIVE...   \n",
       "858111    ZZ126L7I  MRVAVTIEISNQLSEVLSVIERHLESTLLAVHLYGSAVDGGLKPYS...   \n",
       "\n",
       "         CREATURE    LABEL  target  creature  \n",
       "653     creature2  class19      19         2  \n",
       "1015    creature0   class2       2         0  \n",
       "1507    creature2  class13      13         2  \n",
       "4223    creature0  class11      11         0  \n",
       "4274    creature2  class19      19         2  \n",
       "...           ...      ...     ...       ...  \n",
       "852661  creature0  class19      19         0  \n",
       "852677  creature2  class19      19         2  \n",
       "855214  creature2   class2       2         2  \n",
       "857745  creature2   class2       2         2  \n",
       "858111  creature2  class19      19         2  \n",
       "\n",
       "[816 rows x 6 columns]"
      ]
     },
     "execution_count": 11,
     "metadata": {},
     "output_type": "execute_result"
    }
   ],
   "source": [
    "train[train['SEQUENCE'].isin(test['SEQUENCE'])]"
   ]
  },
  {
   "cell_type": "code",
   "execution_count": 24,
   "metadata": {},
   "outputs": [
    {
     "data": {
      "text/plain": [
       "<AxesSubplot:xlabel='creature', ylabel='Count'>"
      ]
     },
     "execution_count": 24,
     "metadata": {},
     "output_type": "execute_result"
    },
    {
     "data": {
      "image/png": "[encoded data removed]",
      "text/plain": [
       "<Figure size 432x288 with 1 Axes>"
      ]
     },
     "metadata": {
      "needs_background": "light"
     },
     "output_type": "display_data"
    }
   ],
   "source": [
    "sns.histplot(test['creature'])"
   ]
  },
  {
   "cell_type": "markdown",
   "metadata": {},
   "source": [
    "## Sequence Analysis"
   ]
  },
  {
   "cell_type": "code",
   "execution_count": 20,
   "metadata": {},
   "outputs": [
    {
     "name": "stdout",
     "output_type": "stream",
     "text": [
      "Reading in unlabelled_data/unlabelled_sequences/14.csv\n",
      "Reading in unlabelled_data/unlabelled_sequences/21.csv\n",
      "Reading in unlabelled_data/unlabelled_sequences/23.csv\n",
      "Reading in unlabelled_data/unlabelled_sequences/6.csv\n",
      "Reading in unlabelled_data/unlabelled_sequences/17.csv\n",
      "Reading in unlabelled_data/unlabelled_sequences/8.csv\n",
      "Reading in unlabelled_data/unlabelled_sequences/20.csv\n",
      "Reading in unlabelled_data/unlabelled_sequences/12.csv\n",
      "Reading in unlabelled_data/unlabelled_sequences/15.csv\n",
      "Reading in unlabelled_data/unlabelled_sequences/13.csv\n",
      "Reading in unlabelled_data/unlabelled_sequences/3.csv\n",
      "Reading in unlabelled_data/unlabelled_sequences/4.csv\n",
      "Reading in unlabelled_data/unlabelled_sequences/16.csv\n",
      "Reading in unlabelled_data/unlabelled_sequences/0.csv\n",
      "Reading in unlabelled_data/unlabelled_sequences/5.csv\n",
      "Reading in unlabelled_data/unlabelled_sequences/7.csv\n",
      "Reading in unlabelled_data/unlabelled_sequences/19.csv\n",
      "Reading in unlabelled_data/unlabelled_sequences/9.csv\n",
      "Reading in unlabelled_data/unlabelled_sequences/11.csv\n",
      "Reading in unlabelled_data/unlabelled_sequences/1.csv\n",
      "Reading in unlabelled_data/unlabelled_sequences/24.csv\n",
      "Reading in unlabelled_data/unlabelled_sequences/18.csv\n",
      "Reading in unlabelled_data/unlabelled_sequences/i.csv\n",
      "Reading in unlabelled_data/unlabelled_sequences/10.csv\n",
      "Reading in unlabelled_data/unlabelled_sequences/22.csv\n",
      "Reading in unlabelled_data/unlabelled_sequences/2.csv\n"
     ]
    }
   ],
   "source": [
    "import glob\n",
    "path = \"unlabelled_data/unlabelled_sequences/*.csv\"\n",
    "df_list = []\n",
    "for fname in glob.glob(path):\n",
    "    print(f\"Reading in {fname}\")\n",
    "    df = pd.read_csv(fname)\n",
    "    df_list.append(df)\n",
    "    \n",
    "sequence_df = pd.concat(df_list)"
   ]
  },
  {
   "cell_type": "code",
   "execution_count": 23,
   "metadata": {},
   "outputs": [
    {
     "name": "stdout",
     "output_type": "stream",
     "text": [
      "0          MIDFGKFYQQIACGPLAHWLETLPAQVAAWQRDTLHGQFKQWKNSL...\n",
      "1          MLNNDAKVIIYMKKILSILLLLVLSIPSLVVTTSHAEEKIHIEAAA...\n",
      "2          METASSRTLLFDKALMDTAILSVAQSIVSEYSPKDIPRLAFIGIQL...\n",
      "3          MKFQGLVKVIQKKFVSDDVFKIVIEKPEHMGEVRPGQFFNFNVERM...\n",
      "4          MRTSKLSIRLLWYITPLVILPLLFLGGFTLTNVTSSTQKQAELIVS...\n",
      "                                 ...                        \n",
      "2862352    MSAPRHPVAPGKLYGVGLGPGDPDLLTLAAVKAIAEADVVAYHSAR...\n",
      "2862353    MKRYISLKIKMALTVFVLILGTLSVFGLLALHHLEKGHREGIARQQ...\n",
      "2862354    MSPSAASPPQDGLFARLGKIFRTTAFKLSLAYLVLFAVLASLGLGY...\n",
      "2862355    MELTLLGTGAPLGLPRPDCPCAVCALSRGPAARASTSLLVDGALLL...\n",
      "2862356    MPLRTFDGIAVETPHARIPGSKSLTNRALLLAAAAEGTTVLSAPLV...\n",
      "Name: sequence, Length: 2862357, dtype: object\n"
     ]
    }
   ],
   "source": [
    "unlabelled_sequences = sequence_df.reset_index()['sequence']\n",
    "\n",
    "print(unlabelled_sequences)"
   ]
  },
  {
   "cell_type": "code",
   "execution_count": 33,
   "metadata": {},
   "outputs": [
    {
     "name": "stdout",
     "output_type": "stream",
     "text": [
      "There are 35665 sequences in train\n",
      "There are 33457 sequences in test\n"
     ]
    }
   ],
   "source": [
    "print(f\"There are {unlabelled_sequences[unlabelled_sequences.isin(train['SEQUENCE'])].shape[0]} sequences in train\")\n",
    "\n",
    "print(f\"There are {unlabelled_sequences[unlabelled_sequences.isin(test['SEQUENCE'])].shape[0]} sequences in test\")\n"
   ]
  },
  {
   "cell_type": "code",
   "execution_count": 39,
   "metadata": {},
   "outputs": [
    {
     "name": "stdout",
     "output_type": "stream",
     "text": [
      "The number of unique (raw) 816700 in train\n",
      "The number of unique (truncated)  575647 in train\n"
     ]
    }
   ],
   "source": [
    "print(f\"The number of unique (raw) {train['SEQUENCE'].nunique()} in train\")\n",
    "\n",
    "print(f\"The number of unique (truncated)  {train['SEQUENCE'].apply(lambda x: str(x)[:100]).nunique()} in train\")"
   ]
  },
  {
   "cell_type": "code",
   "execution_count": 40,
   "metadata": {},
   "outputs": [
    {
     "name": "stdout",
     "output_type": "stream",
     "text": [
      "The number of unique (raw) 253078 in test\n",
      "The number of unique (truncated)  147323 in test\n"
     ]
    }
   ],
   "source": [
    "print(f\"The number of unique (raw) {test['SEQUENCE'].nunique()} in test\")\n",
    "\n",
    "print(f\"The number of unique (truncated)  {test['SEQUENCE'].apply(lambda x: str(x)[:100]).nunique()} in test\")"
   ]
  },
  {
   "cell_type": "code",
   "execution_count": 41,
   "metadata": {},
   "outputs": [
    {
     "name": "stdout",
     "output_type": "stream",
     "text": [
      "The number of unique (raw) 2627691 in unlabelled sequences\n",
      "The number of unique (truncated)  2369099 in unlabelled sequences\n"
     ]
    }
   ],
   "source": [
    "print(f\"The number of unique (raw) {unlabelled_sequences.nunique()} in unlabelled sequences\")\n",
    "\n",
    "print(f\"The number of unique (truncated)  {unlabelled_sequences.apply(lambda x: str(x)[:100]).nunique()} in unlabelled sequences\")"
   ]
  },
  {
   "cell_type": "code",
   "execution_count": null,
   "metadata": {},
   "outputs": [],
   "source": []
  }
 ],
 "metadata": {
  "kernelspec": {
   "display_name": "Python 3",
   "language": "python",
   "name": "python3"
  },
  "language_info": {
   "codemirror_mode": {
    "name": "ipython",
    "version": 3
   },
   "file_extension": ".py",
   "mimetype": "text/x-python",
   "name": "python",
   "nbconvert_exporter": "python",
   "pygments_lexer": "ipython3",
   "version": "3.8.5"
  }
 },
 "nbformat": 4,
 "nbformat_minor": 4
}
